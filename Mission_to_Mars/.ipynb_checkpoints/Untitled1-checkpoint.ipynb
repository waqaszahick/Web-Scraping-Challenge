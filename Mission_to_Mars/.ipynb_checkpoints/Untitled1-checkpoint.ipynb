{
 "cells": [
  {
   "cell_type": "code",
   "execution_count": null,
   "id": "banned-plenty",
   "metadata": {},
   "outputs": [],
   "source": [
    "# Imports\n",
    "from bs4 import BeautifulSoup as bs\n",
    "import requests\n",
    "import pandas as pd\n",
    "from splinter import Browser as browser\n",
    "import time"
   ]
  },
  {
   "cell_type": "code",
   "execution_count": null,
   "id": "expensive-tanzania",
   "metadata": {},
   "outputs": [],
   "source": [
    "# URL of page to be scraped\n",
    "url = 'https://mars.nasa.gov/news/?page=0&per_page=40&order=publish_date+desc%2Ccreated_at+desc&search=&category=19%2C165%2C184%2C204&blank_scope=Latest'"
   ]
  },
  {
   "cell_type": "code",
   "execution_count": null,
   "id": "political-bennett",
   "metadata": {},
   "outputs": [],
   "source": [
    "# Retrieve page withurl the requests module\n",
    "response = requests.get(url)"
   ]
  },
  {
   "cell_type": "code",
   "execution_count": null,
   "id": "streaming-property",
   "metadata": {},
   "outputs": [],
   "source": [
    "# Create BeautifulSoup object; parse with 'html.parser'\n",
    "soup = bs(response.text, 'html.parser')"
   ]
  },
  {
   "cell_type": "code",
   "execution_count": null,
   "id": "periodic-humidity",
   "metadata": {},
   "outputs": [],
   "source": [
    "# Examine the results, then determine element that contains sought info\n",
    "print(soup.prettify())"
   ]
  },
  {
   "cell_type": "code",
   "execution_count": null,
   "id": "understanding-battery",
   "metadata": {},
   "outputs": [],
   "source": [
    "Latest_title = soup.find_all('div', class_ ='content_title')[0].text.strip()\n",
    "Latest_paragraph = soup.find_all('div', class_ = 'rollover_description_inner')[0].text.strip() "
   ]
  },
  {
   "cell_type": "code",
   "execution_count": null,
   "id": "known-train",
   "metadata": {},
   "outputs": [],
   "source": [
    "#Scrape Nasa. get latest title and paragraph.\n",
    "print(f\"{Latest_title} : {Latest_paragraph}\")"
   ]
  },
  {
   "cell_type": "code",
   "execution_count": null,
   "id": "innocent-arrest",
   "metadata": {},
   "outputs": [],
   "source": [
    "df = pd.read_html(\"https://space-facts.com/mars/\")[0]"
   ]
  },
  {
   "cell_type": "code",
   "execution_count": null,
   "id": "pressed-accounting",
   "metadata": {},
   "outputs": [],
   "source": [
    "#Rename columns to description and Mars, remove index, df.to_html()\n",
    "df.columns = ['Description','Mars']\n",
    "df.set_index(\"Description\",inplace=True)\n",
    "df"
   ]
  },
  {
   "cell_type": "code",
   "execution_count": null,
   "id": "numeric-hungary",
   "metadata": {},
   "outputs": [],
   "source": [
    "#Scrape featured image\n",
    "from webdriver_manager.chrome import ChromeDriverManager\n",
    "executable_path = {'executable_path': ChromeDriverManager().install()}\n",
    "browser = browser('chrome',**executable_path, headless=False)"
   ]
  },
  {
   "cell_type": "code",
   "execution_count": null,
   "id": "medical-semester",
   "metadata": {},
   "outputs": [],
   "source": [
    "url = 'https://data-class-jpl-space.s3.amazonaws.com/JPL_Space/'\n",
    "index = 'index.html'\n",
    "browser.visit(url+index)"
   ]
  },
  {
   "cell_type": "code",
   "execution_count": null,
   "id": "southern-baker",
   "metadata": {},
   "outputs": [],
   "source": [
    "# Go to 'FULL IMAGE'\n",
    "# Parse HTML with Beautiful Soup\n",
    "html = browser.html\n",
    "image_soup = bs(html, 'html.parser')\n",
    "header = image_soup.find('img',class_ = 'headerimage')\n",
    "f_img = header['src']\n",
    "featured_image_url = url + f_img\n",
    "print('Featured Image:', featured_image_url)"
   ]
  },
  {
   "cell_type": "code",
   "execution_count": null,
   "id": "italian-modeling",
   "metadata": {},
   "outputs": [],
   "source": [
    "url_s = 'https://data-class-jpl-space.s3.amazonaws.com/JPL_Space/'\n",
    "index = 'index.html'\n",
    "url = url_s + index\n",
    "exe = 'chromedriver.exe'\n",
    "ch_dr = os.path.abspath(exe)\n",
    "print('\"chromedriver.exe\" source:', ch_dr)\n",
    "browser = Browser(\"chrome\", exe, headless = False)\n",
    "browser.visit(url)\n",
    "html_s = browser.html\n",
    "soup_s = BeautifulSoup(html_s, 'html.parser')\n",
    "browser.quit()\n",
    "header = soup_s.find('img',class_ = 'headerimage')\n",
    "f_img = header['src']\n",
    "featured_image_url = url_s + f_img\n",
    "print('Featured Image:', featured_image_url)"
   ]
  },
  {
   "cell_type": "code",
   "execution_count": null,
   "id": "animal-kazakhstan",
   "metadata": {},
   "outputs": [],
   "source": [
    "browser.links.find_by_partial_text('FULL IMAGE').click()\n",
    "time.sleep(5)"
   ]
  },
  {
   "cell_type": "code",
   "execution_count": null,
   "id": "careful-lawrence",
   "metadata": {},
   "outputs": [],
   "source": [
    "browser.visit(url)\n",
    "html_s = browser.html\n",
    "soup_s = BeautifulSoup(html_s, 'html.parser')\n",
    "browser.quit()"
   ]
  },
  {
   "cell_type": "code",
   "execution_count": null,
   "id": "awful-canada",
   "metadata": {},
   "outputs": [],
   "source": [
    "html = browser.html\n",
    "image_soup = bs(html, 'html.parser')"
   ]
  },
  {
   "cell_type": "code",
   "execution_count": null,
   "id": "settled-eclipse",
   "metadata": {},
   "outputs": [],
   "source": [
    "image_url = image_soup.find_all('img')\n",
    "image_url = image_soup.find_all('img')"
   ]
  }
 ],
 "metadata": {
  "kernelspec": {
   "display_name": "Python 3",
   "language": "python",
   "name": "python3"
  },
  "language_info": {
   "codemirror_mode": {
    "name": "ipython",
    "version": 3
   },
   "file_extension": ".py",
   "mimetype": "text/x-python",
   "name": "python",
   "nbconvert_exporter": "python",
   "pygments_lexer": "ipython3",
   "version": "3.8.6"
  }
 },
 "nbformat": 4,
 "nbformat_minor": 5
}
