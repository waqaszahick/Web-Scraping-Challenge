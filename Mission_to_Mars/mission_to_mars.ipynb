{
 "cells": [
  {
   "cell_type": "code",
   "execution_count": 1,
   "metadata": {
    "scrolled": false
   },
   "outputs": [
    {
     "name": "stdout",
     "output_type": "stream",
     "text": [
      "News Title: NASA's Mars Perseverance Rover Provides Front-Row Seat to Landing, First Audio Recording of Red Planet \n",
      "News Text: The agency’s newest rover captured first-of-its kind footage of its Feb. 18 touchdown and has recorded audio of Martian wind.\n",
      "\n",
      "\n"
     ]
    },
    {
     "data": {
      "text/html": [
       "<div>\n",
       "<style scoped>\n",
       "    .dataframe tbody tr th:only-of-type {\n",
       "        vertical-align: middle;\n",
       "    }\n",
       "\n",
       "    .dataframe tbody tr th {\n",
       "        vertical-align: top;\n",
       "    }\n",
       "\n",
       "    .dataframe thead th {\n",
       "        text-align: right;\n",
       "    }\n",
       "</style>\n",
       "<table border=\"1\" class=\"dataframe\">\n",
       "  <thead>\n",
       "    <tr style=\"text-align: right;\">\n",
       "      <th></th>\n",
       "      <th>0</th>\n",
       "      <th>1</th>\n",
       "    </tr>\n",
       "  </thead>\n",
       "  <tbody>\n",
       "    <tr>\n",
       "      <th>0</th>\n",
       "      <td>NASA's Mars Perseverance Rover Provides Front-...</td>\n",
       "      <td>The agency’s newest rover captured first-of-it...</td>\n",
       "    </tr>\n",
       "    <tr>\n",
       "      <th>1</th>\n",
       "      <td>NASA to Reveal New Video, Images From Mars Per...</td>\n",
       "      <td>First-of-its kind footage from the agency’s ne...</td>\n",
       "    </tr>\n",
       "    <tr>\n",
       "      <th>2</th>\n",
       "      <td>NASA's Next Mars Rover Is Ready for the Most P...</td>\n",
       "      <td>What to expect when the Mars 2020 Perseverance...</td>\n",
       "    </tr>\n",
       "    <tr>\n",
       "      <th>3</th>\n",
       "      <td>NASA to Host Virtual Briefing on February Pers...</td>\n",
       "      <td>NASA leadership and members of the mission wil...</td>\n",
       "    </tr>\n",
       "    <tr>\n",
       "      <th>4</th>\n",
       "      <td>NASA InSight's ‘Mole' Ends Its Journey on Mars</td>\n",
       "      <td>The heat probe hasn’t been able to gain the fr...</td>\n",
       "    </tr>\n",
       "    <tr>\n",
       "      <th>5</th>\n",
       "      <td>NASA to Broadcast Mars 2020 Perseverance Launc...</td>\n",
       "      <td>Starting July 27, news activities will cover e...</td>\n",
       "    </tr>\n",
       "  </tbody>\n",
       "</table>\n",
       "</div>"
      ],
      "text/plain": [
       "                                                   0  \\\n",
       "0  NASA's Mars Perseverance Rover Provides Front-...   \n",
       "1  NASA to Reveal New Video, Images From Mars Per...   \n",
       "2  NASA's Next Mars Rover Is Ready for the Most P...   \n",
       "3  NASA to Host Virtual Briefing on February Pers...   \n",
       "4     NASA InSight's ‘Mole' Ends Its Journey on Mars   \n",
       "5  NASA to Broadcast Mars 2020 Perseverance Launc...   \n",
       "\n",
       "                                                   1  \n",
       "0  The agency’s newest rover captured first-of-it...  \n",
       "1  First-of-its kind footage from the agency’s ne...  \n",
       "2  What to expect when the Mars 2020 Perseverance...  \n",
       "3  NASA leadership and members of the mission wil...  \n",
       "4  The heat probe hasn’t been able to gain the fr...  \n",
       "5  Starting July 27, news activities will cover e...  "
      ]
     },
     "metadata": {},
     "output_type": "display_data"
    }
   ],
   "source": [
    "from bs4 import BeautifulSoup\n",
    "import requests\n",
    "from IPython.display import display\n",
    "import pandas as pd\n",
    "from splinter import Browser\n",
    "import os\n",
    "\n",
    "url_1 = 'https://mars.nasa.gov/news/?page=0&per_page=40&order=publish_date+desc%2Ccreated_at+desc&search=&category=19%2C165%2C184%2C204&blank_scope=Latest'\n",
    "page = requests.get(url_1)\n",
    "\n",
    "soup = BeautifulSoup(page.text, 'html.parser')\n",
    "\n",
    "news_title = soup.findAll('div',attrs={'class':'content_title'})[0].text[2:-2]\n",
    "news_p = soup.findAll('div', attrs = {'class':'rollover_description_inner'})[0].text[1:-1]\n",
    "print('News Title:', news_title)\n",
    "print('News Text:', news_p)\n",
    "\n",
    "data_got = {}\n",
    "for title,descript in zip(soup.findAll('div', attrs = {'class':'content_title'}), soup.findAll('div', attrs = {'class':'rollover_description_inner'})):\n",
    "    data_got[title.text[2:-2]] = descript.text[1:-1]\n",
    "    \n",
    "display(pd.DataFrame(list(data_got.items())))"
   ]
  },
  {
   "cell_type": "code",
   "execution_count": 2,
   "metadata": {},
   "outputs": [
    {
     "data": {
      "text/plain": [
       "'\\nhtml_tab = dfs[0].to_html()\\ndisplay(dfs[0])\\ntext_file = open(\"table.html\", \"w\")\\ntext_file.write(html_tab)\\ntext_file.close()\\n'"
      ]
     },
     "execution_count": 2,
     "metadata": {},
     "output_type": "execute_result"
    }
   ],
   "source": [
    "url_2 = 'https://space-facts.com/mars/'\n",
    "dfs = pd.read_html(url_2)\n",
    "dfs[0].columns = ['Name', 'Value']\n",
    "dfs[0].to_html('templates/table.html', index = False)\n",
    "'''\n",
    "html_tab = dfs[0].to_html()\n",
    "display(dfs[0])\n",
    "text_file = open(\"table.html\", \"w\")\n",
    "text_file.write(html_tab)\n",
    "text_file.close()\n",
    "'''"
   ]
  },
  {
   "cell_type": "code",
   "execution_count": 3,
   "metadata": {},
   "outputs": [
    {
     "name": "stdout",
     "output_type": "stream",
     "text": [
      "\"chromedriver.exe\" source: D:\\Data Boot Camp\\week12\\Web-Scraping-Challenge\\Mission_to_Mars\\chromedriver.exe\n",
      "Featured Image: https://data-class-jpl-space.s3.amazonaws.com/JPL_Space/image/featured/mars1.jpg\n"
     ]
    }
   ],
   "source": [
    "url_s = 'https://data-class-jpl-space.s3.amazonaws.com/JPL_Space/'\n",
    "index = 'index.html'\n",
    "url = url_s + index\n",
    "exe = 'chromedriver.exe'\n",
    "ch_dr = os.path.abspath(exe)\n",
    "print('\"chromedriver.exe\" source:', ch_dr)\n",
    "browser = Browser(\"chrome\", exe, headless = False)\n",
    "browser.visit(url)\n",
    "html_s = browser.html\n",
    "soup_s = BeautifulSoup(html_s, 'html.parser')\n",
    "browser.quit()\n",
    "header = soup_s.find('img', class_ = 'headerimage')\n",
    "f_img = header['src']\n",
    "featured_image_url = url_s + f_img\n",
    "print('Featured Image:', featured_image_url)"
   ]
  },
  {
   "cell_type": "code",
   "execution_count": 4,
   "metadata": {},
   "outputs": [
    {
     "name": "stdout",
     "output_type": "stream",
     "text": [
      "{'title': 'Cerberus Hemisphere Enhanced', 'img_url': 'https://astropedia.astrogeology.usgs.gov/download/Mars/Viking/cerberus_enhanced.tif/full.jpg'}\n",
      "{'title': 'Schiaparelli Hemisphere Enhanced', 'img_url': 'https://astropedia.astrogeology.usgs.gov/download/Mars/Viking/schiaparelli_enhanced.tif/full.jpg'}\n",
      "{'title': 'Syrtis Major Hemisphere Enhanced', 'img_url': 'https://astropedia.astrogeology.usgs.gov/download/Mars/Viking/syrtis_major_enhanced.tif/full.jpg'}\n",
      "{'title': 'Valles Marineris Hemisphere Enhanced', 'img_url': 'https://astropedia.astrogeology.usgs.gov/download/Mars/Viking/valles_marineris_enhanced.tif/full.jpg'}\n"
     ]
    }
   ],
   "source": [
    "home_page = 'https://astrogeology.usgs.gov/search/results?q=hemisphere+enhanced&k1=target&v1=Mars'\n",
    "site = 'https://astrogeology.usgs.gov'\n",
    "page = requests.get(home_page)\n",
    "\n",
    "soup = BeautifulSoup(page.text, 'html.parser')\n",
    "hemisphere_image_urls = []\n",
    "for item in soup.findAll('div', attrs = {'class':'item'}):\n",
    "    hm_dict = {}\n",
    "    hm_dict['title'] = str(item.find_all('div', attrs = {'class':'description'})[0].text)\n",
    "    hm_url = site + str(item.find_all('a', href = True)[0]['href'])\n",
    "    hm_page = requests.get(hm_url)\n",
    "    hm_soup = BeautifulSoup(hm_page.text, 'html.parser')\n",
    "    for items in hm_soup.findAll('div',attrs = {'class':'wide-image-wrapper'}):\n",
    "        hm_dict['img_url'] = str(items.ul.li.find_all('a', href = True)[0]['href'])\n",
    "        \n",
    "    hemisphere_image_urls.append(hm_dict)\n",
    "\n",
    "for entry in hemisphere_image_urls:\n",
    "    print(entry)"
   ]
  }
 ],
 "metadata": {
  "kernelspec": {
   "display_name": "Python 3",
   "language": "python",
   "name": "python3"
  },
  "language_info": {
   "codemirror_mode": {
    "name": "ipython",
    "version": 3
   },
   "file_extension": ".py",
   "mimetype": "text/x-python",
   "name": "python",
   "nbconvert_exporter": "python",
   "pygments_lexer": "ipython3",
   "version": "3.8.6"
  }
 },
 "nbformat": 4,
 "nbformat_minor": 4
}
